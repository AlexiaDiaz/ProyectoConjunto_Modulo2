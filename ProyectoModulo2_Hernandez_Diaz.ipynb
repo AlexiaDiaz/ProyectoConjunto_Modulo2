{
 "cells": [
  {
   "cell_type": "markdown",
   "metadata": {},
   "source": [
    "<img style=\"float: left; margin: 30px 15px 15px 15px;\" src=\"https://pngimage.net/wp-content/uploads/2018/06/logo-iteso-png-5.png\" width=\"300\" height=\"500\" /> \n",
    "    \n",
    "    \n",
    "### <font color='navy'> Simulación de procesos financieros. \n",
    "\n",
    "**Nombres:** Alexia Marisol Diaz Verduzco & Frida María Hernández López\n",
    "\n",
    "**Fecha:** 14 de octubre del 2021.\n",
    "\n",
    "**Expediente** : if720500 & if720476\n",
    "    \n",
    "**Profesor:** Oscar David Jaramillo Zuluaga.\n",
    "    \n",
    "**Link Github**: https://github.com/FridaHernandezL/ProyectoConjunto_Modulo2\n",
    "\n",
    "# Proyecto TEMA-2"
   ]
  },
  {
   "cell_type": "markdown",
   "metadata": {},
   "source": [
    "### 1.1 Simulación aplicada a clientes con tarjeta de crédito.\n",
    "\n",
    "### 1.2 Objetivos.\n",
    "> #### 1.2.1 Objetivo general.\n",
    ">  - Evaluar diferentes escenarios relacionados con los titulares de las tarjetas de crédito de un banco.\n",
    "\n",
    "\n",
    "> #### 1.2.2 Objetivos específicos.\n",
    ">  - Predecir que tipo de cliente considera dar de baja la tarjeta de crédito.\n",
    ">  - Proyectar cual es el rango de edad, así como el nivel de educación de las personas que gozan de una tarjeta Gold. \n",
    ">  - Identificar como se define el límite de crédito que se le ofrece a cada cliente con base a distintas variables como edad,ingresos,tiempo activo, categoría de la tarjeta. \n",
    ">  - Estimar el limite de crédito promedio. \n",
    ">  - Encontrar por medio de simulaciones cual es el género (femenino,masculino) que predominará en un futuro.\n",
    ">  - Conocer que estado civil predomina en cada tipo de tarjeta.\n",
    ">  - Simular cual es la edad promedio que una persona comienza a utilizar tarjetas de crédito.\n",
    "\n",
    "\n",
    "### 1.3 Definición del problema.\n",
    "\n",
    "> En muchos países sobretodo subdesarrollados el uso de tarjetas de crédito es un tema poco conocido así como también es común la desconfianza a las mismas. Sin embargo, por el rumbo profesional que ambas llevamos consideramos este tema como algo muy importante e interesante.  \n",
    "> Entre los fénomenos financieros que se presentaron durante la pandemia como sociedad, predomina un deceso importante en las líneas de crédito; con este análisis queremos conocer el escenario de las personas con cuentas de crédito dependiendo de su edad, sexo, nivel educativo, ingresos, estado civil, etc. \n",
    "\n",
    "### 1.4 Nodos y variables que se decidieron simular y porqué\n",
    "\n",
    "> Los nodos que decidimos simular son:\n",
    ">  -  Límite de crédito \n",
    ">  -  Edad del cliente\n",
    ">  -  Ingresos\n",
    ">  -  Tipo de Cuenta\n",
    ">  -  Nivel de educación\n",
    ">  -  Género\n",
    ">  -  Estado civil"
   ]
  },
  {
   "cell_type": "markdown",
   "metadata": {},
   "source": [
    "El **límite de crédito** es el objetivo a identificar para conocer cuales son las variables que lo afectan como **ingresos**, **edad**,**tiempo activo** y **tipo de cuenta**.  \n",
    "\n",
    "La **edad del cliente** es una variable que ayudará a resolver varios objetivos específicos, pero además es una variable de estudio para simular cuando es el inicio de un historial crediticio en la vida de las personas.\n",
    "\n",
    "Se desea estudiar los **nivel de educación**  y el **estado civil** para identificar que tipo de personas gozan de los beneficios de ciertos tipos de cuenta. \n",
    "\n",
    "En un futuro se desea conocer cual es el **género** predominante de las cuentas activas de tarjeta de crédito.\n",
    "\n",
    "\n"
   ]
  },
  {
   "cell_type": "code",
   "execution_count": 7,
   "metadata": {},
   "outputs": [],
   "source": [
    "from PIL import Image "
   ]
  },
  {
   "cell_type": "markdown",
   "metadata": {},
   "source": []
  },
  {
   "cell_type": "code",
   "execution_count": null,
   "metadata": {},
   "outputs": [],
   "source": []
  }
 ],
 "metadata": {
  "kernelspec": {
   "display_name": "Python 3",
   "language": "python",
   "name": "python3"
  },
  "language_info": {
   "codemirror_mode": {
    "name": "ipython",
    "version": 3
   },
   "file_extension": ".py",
   "mimetype": "text/x-python",
   "name": "python",
   "nbconvert_exporter": "python",
   "pygments_lexer": "ipython3",
   "version": "3.8.3"
  }
 },
 "nbformat": 4,
 "nbformat_minor": 2
}
