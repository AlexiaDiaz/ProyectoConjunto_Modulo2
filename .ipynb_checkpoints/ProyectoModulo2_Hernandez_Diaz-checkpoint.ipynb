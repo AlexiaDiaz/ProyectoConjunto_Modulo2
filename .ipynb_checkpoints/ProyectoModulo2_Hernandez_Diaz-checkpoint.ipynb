{
 "cells": [
  {
   "cell_type": "markdown",
   "metadata": {},
   "source": [
    "<img style=\"float: left; margin: 30px 15px 15px 15px;\" src=\"https://pngimage.net/wp-content/uploads/2018/06/logo-iteso-png-5.png\" width=\"300\" height=\"500\" /> \n",
    "    \n",
    "    \n",
    "### <font color='navy'> Simulación de procesos financieros. \n",
    "\n",
    "**Nombres:** Alexia Marisol Diaz Verduzco & Frida María Hernández López\n",
    "\n",
    "**Fecha:** 14 de octubre del 2021.\n",
    "\n",
    "**Expediente** : if720500 & if720476\n",
    "    \n",
    "**Profesor:** Oscar David Jaramillo Zuluaga.\n",
    "    \n",
    "**Link Github**: https://github.com/FridaHernandezL/ProyectoConjunto_Modulo2\n",
    "\n",
    "# Proyecto TEMA-2"
   ]
  },
  {
   "cell_type": "markdown",
   "metadata": {},
   "source": [
    "### 1.1 Simulación aplicada a clientes con tarjeta de crédito.\n",
    "\n",
    "### 1.2 Objetivos.\n",
    "> #### 1.2.1 Objetivo general.\n",
    ">  - Evaluar diferentes escenarios relacionados con los titulares de las tarjetas\n",
    "\n",
    "\n",
    "> #### 1.2.2 Objetivos específicos.\n",
    ">  - Conocer que persona es la más probable a ser cliente potencial con una tajeta de crédito dependiendo de diversos factores (edad, sexo, nivel educativo, ingresos, etc)\n",
    ">  - Encontrar por simulaciones como se define el límite de crédito que se le da a cada cleinte\n",
    ">  - Saber cuales son los requisitos para ser propietario de una tarjeta Gold\n",
    ">  - Predecir que clientes tienen intenciones de cerrar su cuenta para evitarlo\n",
    "\n",
    "### 1.3 Definición del problema.\n",
    "> Se debe describir en una cuartilla máximo cuál es el escenario de negocio que se va a modelar, identificar cuáles son los supuestos que defines en el negocio y cuáles son los \"nodos\" o \"escenarios\" que identificas necesarios simular y porqué. Debes elaborar un diagrama de inicio a fin, identificando los \"nodos\" o \"escenarios\" a simular.\n",
    "\n",
    "> En muchos países sobretodo subdesarrollados el uso de tarjetas de crédito es un tema poco conocido así como también es común la desconfianza a las mismas, sin embargo por el rumbo profesional que ambas llevamos consideramos este tema como algo muy importante e interesante. \n",
    "Entre los retos que se nos presentó como sociedad, en la pandemia, ha habido un deceso importante en las lineas de crédito; con este analisis queremos ver el escenario de las personas con cuentas de crédito dependiendo de su edad, sexo, nivel educativo, ingresos, estado civil, etc. analizando así el numero de transacciones que realizan,limite de crédito y el tiempo que llevan en tenencia de la cuenta. Así como también predecir en base a los datos de 10,000 clientes con los que contamos, que clientes tienen intención de cerrar su cuenta para que el banco pueda atenderlos de manera especializada y evitarlo.\n",
    "\n",
    "\n",
    "\n",
    "### 1.4 Nodos y variables que se decidieron simular y porqué\n",
    "> En este apartado el objetivo es identificar los problemas que se van a abordar, para examinar la factibilidad y viabilidad de la simulación de los nodos escogidos. Posteriormente se debe de argumentar del porqué de los nodos escogidos.\n",
    "\n",
    "> Los nodos que decidimos simular son:\n",
    ">  -  Límite de crédito \n",
    ">  -  Transacciones\n",
    ">  -  Ingresos\n",
    ">  -  Tipo de Cuenta"
   ]
  },
  {
   "cell_type": "code",
   "execution_count": null,
   "metadata": {},
   "outputs": [],
   "source": []
  }
 ],
 "metadata": {
  "kernelspec": {
   "display_name": "Python 3",
   "language": "python",
   "name": "python3"
  },
  "language_info": {
   "codemirror_mode": {
    "name": "ipython",
    "version": 3
   },
   "file_extension": ".py",
   "mimetype": "text/x-python",
   "name": "python",
   "nbconvert_exporter": "python",
   "pygments_lexer": "ipython3",
   "version": "3.8.3"
  }
 },
 "nbformat": 4,
 "nbformat_minor": 2
}
